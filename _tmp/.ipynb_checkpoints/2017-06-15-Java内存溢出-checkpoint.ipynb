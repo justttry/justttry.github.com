{
 "cells": [
  {
   "cell_type": "markdown",
   "metadata": {},
   "source": [
    "转来的<a href=\"http://outofmemory.cn/c/java-outOfMemoryError\">文章</a>"
   ]
  },
  {
   "cell_type": "markdown",
   "metadata": {},
   "source": [
    "```\n",
    "java.lang.OutOfMemoryError这个错误我相信大部分开发人员都有遇到过，产生该错误的原因大都出于以下原因：JVM内存过小、程序不严密，产生了过多的垃圾。\n",
    "\n",
    "导致OutOfMemoryError异常的常见原因有以下几种：\n",
    "\n",
    "1.内存中加载的数据量过于庞大，如一次从数据库取出过多数据；\n",
    "2.集合类中有对对象的引用，使用完后未清空，使得JVM不能回收；\n",
    "3.代码中存在死循环或循环产生过多重复的对象实体；\n",
    "4.使用的第三方软件中的BUG；\n",
    "5.启动参数内存值设定的过小；\n",
    "\n",
    "此错误常见的错误提示：\n",
    "\n",
    "1.tomcat:java.lang.OutOfMemoryError: PermGen space\n",
    "2.tomcat:java.lang.OutOfMemoryError: Java heap space\n",
    "3.weblogic:Root cause of ServletException java.lang.OutOfMemoryError\n",
    "4.resin:java.lang.OutOfMemoryError\n",
    "5.java:java.lang.OutOfMemoryError\n",
    "解决java.lang.OutOfMemoryError的方法有如下几种：\n",
    "```"
   ]
  }
 ],
 "metadata": {
  "kernelspec": {
   "display_name": "Python 2",
   "language": "python",
   "name": "python2"
  },
  "language_info": {
   "codemirror_mode": {
    "name": "ipython",
    "version": 2
   },
   "file_extension": ".py",
   "mimetype": "text/x-python",
   "name": "python",
   "nbconvert_exporter": "python",
   "pygments_lexer": "ipython2",
   "version": "2.7.13"
  }
 },
 "nbformat": 4,
 "nbformat_minor": 2
}
