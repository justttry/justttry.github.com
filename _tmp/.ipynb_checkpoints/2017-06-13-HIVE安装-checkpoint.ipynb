{
 "cells": [
  {
   "cell_type": "markdown",
   "metadata": {},
   "source": [
    "# 1.安装JAVA"
   ]
  },
  {
   "cell_type": "markdown",
   "metadata": {},
   "source": [
    "## (a)安装过程省略\n",
    "过程参考<a href=\"https://www.tutorialspoint.com/hive/hive_installation.htm\">这里</a>, 版本略旧。\n",
    "\n",
    "## (b)查看安装版本\n",
    "```shell\n",
    "    $ java –version\n",
    "    \n",
    "    java version \"1.8.0_131\"\n",
    "    Java(TM) SE Runtime Environment (build 1.8.0_131-b11)\n",
    "    Java HotSpot(TM) 64-Bit Server VM (build 25.131-b11, mixed mode\n",
    "```"
   ]
  },
  {
   "cell_type": "markdown",
   "metadata": {},
   "source": [
    "# 2.安装HADOOP"
   ]
  },
  {
   "cell_type": "markdown",
   "metadata": {},
   "source": [
    "## (a)安装过程省略\n",
    "\n",
    "## (b)查看安装版本\n",
    "```shell\n",
    "    $ hadoop version\n",
    "    \n",
    "    Hadoop 2.8.0\n",
    "    Subversion https://git-wip-us.apache.org/repos/asf/hadoop.git -r 91f2b7a13d1e97be65db92ddabc627cc29ac0009\n",
    "    Compiled by jdu on 2017-03-17T04:12Z\n",
    "    Compiled with protoc 2.5.0\n",
    "    From source with checksum 60125541c2b3e266cbf3becc5bda666\n",
    "    This command was run using /home/ubuntu/Download/hadoop-2.8.0/share/hadoop/common/hadoop-common-2.8.0.jar\n",
    "```\n",
    "\n",
    "## (c) 启动YARN集群\n",
    "```shell\n",
    "    $ $HADOOP_HOME/sbin/start-dfs.sh\n",
    "    $ $HADOOP_HOME/sbin/start-yarn.sh\n",
    "    $ $HADOOP_HOME/sbin/start-all.sh\n",
    "```"
   ]
  },
  {
   "cell_type": "markdown",
   "metadata": {},
   "source": [
    "# 3.安装SPARK"
   ]
  },
  {
   "cell_type": "markdown",
   "metadata": {},
   "source": [
    "## (a).下载SPARK源码，省略"
   ]
  },
  {
   "cell_type": "markdown",
   "metadata": {},
   "source": [
    "## (b).编译"
   ]
  },
  {
   "cell_type": "markdown",
   "metadata": {},
   "source": [
    "```shell\n",
    "    $ cd spark-2.1.1/\n",
    "    $ ./build/mvn -Phadoop-provided -Pyarn -Phadoop-2.7 -Phive -Phive-thriftserver -DskipTests clean package\n",
    "    \n",
    "    [INFO] Reactor Summary:\n",
    "    [INFO] \n",
    "    [INFO] Spark Project Parent POM ........................... SUCCESS [ 13.663 s]\n",
    "    [INFO] Spark Project Tags ................................. SUCCESS [ 17.955 s]\n",
    "    [INFO] Spark Project Sketch ............................... SUCCESS [  6.808 s]\n",
    "    [INFO] Spark Project Networking ........................... SUCCESS [ 11.276 s]\n",
    "    [INFO] Spark Project Shuffle Streaming Service ............ SUCCESS [  5.935 s]\n",
    "    [INFO] Spark Project Unsafe ............................... SUCCESS [  9.713 s]\n",
    "    [INFO] Spark Project Launcher ............................. SUCCESS [ 14.214 s]\n",
    "    [INFO] Spark Project Core ................................. SUCCESS [02:28 min]\n",
    "    [INFO] Spark Project ML Local Library ..................... SUCCESS [ 11.149 s]\n",
    "    [INFO] Spark Project GraphX ............................... SUCCESS [ 13.799 s]\n",
    "    [INFO] Spark Project Streaming ............................ SUCCESS [ 32.115 s]\n",
    "    [INFO] Spark Project Catalyst ............................. SUCCESS [01:20 min]\n",
    "    [INFO] Spark Project SQL .................................. SUCCESS [01:45 min]\n",
    "    [INFO] Spark Project ML Library ........................... SUCCESS [01:15 min]\n",
    "    [INFO] Spark Project Tools ................................ SUCCESS [  1.924 s]\n",
    "    [INFO] Spark Project Hive ................................. SUCCESS [01:00 min]\n",
    "    [INFO] Spark Project REPL ................................. SUCCESS [  5.636 s]\n",
    "    [INFO] Spark Project YARN Shuffle Service ................. SUCCESS [  8.612 s]\n",
    "    [INFO] Spark Project YARN ................................. SUCCESS [ 15.541 s]\n",
    "    [INFO] Spark Project Hive Thrift Server ................... SUCCESS [ 29.356 s]\n",
    "    [INFO] Spark Project Assembly ............................. SUCCESS [ 10.835 s]\n",
    "    [INFO] Spark Project External Flume Sink .................. SUCCESS [  7.775 s]\n",
    "    [INFO] Spark Project External Flume ....................... SUCCESS [  9.472 s]\n",
    "    [INFO] Spark Project External Flume Assembly .............. SUCCESS [  2.272 s]\n",
    "    [INFO] Spark Integration for Kafka 0.8 .................... SUCCESS [ 23.306 s]\n",
    "    [INFO] Spark Project Examples ............................. SUCCESS [ 18.441 s]\n",
    "    [INFO] Spark Project External Kafka Assembly .............. SUCCESS [  4.008 s]\n",
    "    [INFO] Spark Integration for Kafka 0.10 ................... SUCCESS [ 11.553 s]\n",
    "    [INFO] Spark Integration for Kafka 0.10 Assembly .......... SUCCESS [  3.748 s]\n",
    "    [INFO] Kafka 0.10 Source for Structured Streaming ......... SUCCESS [  9.846 s]\n",
    "    [INFO] Spark Project Java 8 Tests ......................... SUCCESS [  5.179 s]\n",
    "    [INFO] ------------------------------------------------------------------------\n",
    "    [INFO] BUILD SUCCESS\n",
    "    [INFO] ------------------------------------------------------------------------\n",
    "    [INFO] Total time: 12:59 min\n",
    "    [INFO] Finished at: 2017-06-13T06:11:22+00:00\n",
    "    [INFO] Final Memory: 96M/1352M\n",
    "    [INFO] ------------------------------------------------------------------------\n",
    "```"
   ]
  },
  {
   "cell_type": "markdown",
   "metadata": {},
   "source": [
    "# 4.安装HIVE"
   ]
  },
  {
   "cell_type": "markdown",
   "metadata": {},
   "source": [
    "## (a).安装HIVE\n",
    "```shell\n",
    "$ cd ~\n",
    "$ wget https://archive.apache.org/dist/hive/hive-1.2.1/apache-hive-1.2.1-bin.tar.gz\n",
    "$ tar zxvf apache-hive-1.2.1-bin.tar.gz\n",
    "$ ls\n",
    "apache-hive-1.2.1-bin  apache-hive-1.2.1-bin.tar.gz\n",
    "$ sudo mv apache-hive-1.2.1-bin /usr/local/hive\n",
    "```\n",
    "<span style=\"color:red\">注意版本，根据SPARK的版本选择HIVE版本，否则会出错。</span>"
   ]
  },
  {
   "cell_type": "markdown",
   "metadata": {},
   "source": [
    "## (b).配置HIVE环境\n",
    "```shell\n",
    "    $ cd ~\n",
    "    $ vi .bashrc\n",
    "    \n",
    "    export HIVE_HOME=/usr/local/hive\n",
    "    export PATH=$PATH:$HIVE_HOME/bin\n",
    "    export CLASSPATH=$CLASSPATH:/usr/local/Hadoop/lib/*:.\n",
    "    export CLASSPATH=$CLASSPATH:/usr/local/hive/lib/*:.\n",
    "    \n",
    "    $ source .bashrc\n",
    "```"
   ]
  },
  {
   "cell_type": "markdown",
   "metadata": {},
   "source": [
    "## (c).配置HIVE\n",
    "```shell\n",
    "    $ cd $HIVE_HOME/conf\n",
    "    $ cp hive-env.sh.template hive-env.sh\n",
    "    $ vi hive-env.sh\n",
    "    \n",
    "    export HADOOP_HOME=/usr/local/hadoop\n",
    "    \n",
    "    $ cp hive-default.xml.template hive-site.xml\n",
    "    $ vi hive-site.xml\n",
    "```\n",
    "配置服务器端口,介绍在<a href=\"https://cwiki.apache.org/confluence/display/Hive/HiveDerbyServerMode\">这里</a>\n",
    "```shell\n",
    "  <property>\n",
    "    <name>javax.jdo.option.ConnectionURL</name>\n",
    "    <value>jdbc:derby://localhost:1527/metastore_db;create=true </value>\n",
    "    <description>JDBC connect string for a JDBC metastore </description>\n",
    "  </property>\n",
    "  <property>\n",
    "    <name>javax.jdo.option.ConnectionDriverName</name>\n",
    "    <value>org.apache.derby.jdbc.ClientDriver</value>\n",
    "    <description>Driver class name for a JDBC metastore</description>\n",
    "  </property>\n",
    "```\n",
    "在hive-site.xml配置的开始行添加下列代码，原因在<a href=\"https://stackoverflow.com/questions/28536340/hive-shell-not-opening-when-i-have-hive-site-xml\">这里</a>\n",
    "```shell\n",
    "  <property>\n",
    "    <name>system:java.io.tmpdir</name>\n",
    "    <value>/tmp/hive/java</value>\n",
    "  </property>\n",
    "  <property>\n",
    "    <name>system:user.name</name>\n",
    "    <value>${user.name}</value>\n",
    "  </property>\n",
    "```\n",
    "\n",
    "```shell\n",
    "    $ vi jpox.properties\n",
    "    \n",
    "    javax.jdo.PersistenceManagerFactoryClass=org.jpox.PersistenceManagerFactoryImpl\n",
    "    org.jpox.autoCreateSchema=false\n",
    "    org.jpox.validateTables=false\n",
    "    org.jpox.validateColumns=false\n",
    "    org.jpox.validateConstraints=false\n",
    "    org.jpox.storeManagerType=rdbms\n",
    "    org.jpox.autoCreateSchema=true\n",
    "    org.jpox.autoStartMechanismMode=checked\n",
    "    org.jpox.transactionIsolation=read_committed\n",
    "    javax.jdo.option.DetachAllOnCommit=true\n",
    "    javax.jdo.option.NontransactionalRead=true\n",
    "    javax.jdo.option.ConnectionDriverName=org.apache.derby.jdbc.ClientDriver\n",
    "    javax.jdo.option.ConnectionURL=jdbc:derby://localhost:1527/metastore_db;create=true\n",
    "    javax.jdo.option.ConnectionUserName=APP\n",
    "    javax.jdo.option.ConnectionPassword=mine\n",
    "\n",
    "```"
   ]
  },
  {
   "cell_type": "markdown",
   "metadata": {},
   "source": [
    "# 5.安装DERBY"
   ]
  },
  {
   "cell_type": "markdown",
   "metadata": {},
   "source": [
    "## (a).安装DERBY\n",
    "```shell\n",
    "    $ cd ~\n",
    "    $ wget http://archive.apache.org/dist/db/derby/db-derby-10.10.2.0/db-derby-10.10.2.0-bin.tar.gz\n",
    "    版本和HIVE保持一致\n",
    "    $ tar zxvf db-derby-10.10.2.0-bin.tar.gz\n",
    "    $ ls\n",
    "    db-derby-10.10.2.0-bin db-derby-10.10.2.0-bin.tar.gz\n",
    "    $ sudo mv db-derby-10.10.2.0-bin /usr/local/derby\n",
    "```\n",
    "\n",
    "## (b).配置DERBY环境\n",
    "```shell\n",
    "    $ cd ~\n",
    "    $ vi .bashrc\n",
    "    export DERBY_HOME=/usr/local/derby\n",
    "    export PATH=$PATH:$DERBY_HOME/bin\n",
    "    export CLASSPATH=$CLASSPATH:$DERBY_HOME/lib/derby.jar:$DERBY_HOME/lib/derbytools.jar\n",
    "    $ source .bashrc\n",
    "    $ cp $DERBY_HOME/lib/derbyclient.jar $HIVE_HOME/lib/\n",
    "    $ cp $DERBY_HOME/lib/derbytools.jar $HIVE_HOME/lib/\n",
    "    $ mkdir $DERBY_HOME/data\n",
    "```"
   ]
  },
  {
   "cell_type": "markdown",
   "metadata": {},
   "source": [
    "# 6.验证HIVE"
   ]
  },
  {
   "cell_type": "markdown",
   "metadata": {},
   "source": [
    "## (a).验证DERBY\n",
    "```shell\n",
    "    $ java org.apache.derby.tools.sysinfo\n",
    "    \n",
    "    ------------------ Java Information ------------------\n",
    "    Java Version:    1.8.0_131\n",
    "    Java Vendor:     Oracle Corporation\n",
    "    Java home:       /usr/lib/jvm/java-8-oracle/jre\n",
    "    Java classpath:  :/usr/local/Hadoop/lib/*:.:/usr/local/hive/lib/calcite-core-1.2.0-incubating.jar::/usr/local/derby/lib/derbytools.jar\n",
    "    OS name:         Linux\n",
    "    OS architecture: amd64\n",
    "    OS version:      4.4.0-1018-aws\n",
    "    Java user name:  ubuntu\n",
    "    Java user home:  /home/ubuntu\n",
    "    Java user dir:   /home/ubuntu\n",
    "    java.specification.name: Java Platform API Specification\n",
    "    java.specification.version: 1.8\n",
    "    java.runtime.version: 1.8.0_131-b11\n",
    "    --------- Derby Information --------\n",
    "    [/usr/local/hive/lib/derby-10.10.2.0.jar] 10.10.2.0 - (1582446)\n",
    "    [/usr/local/hive/lib/derbytools.jar] 10.10.2.0 - (1582446)\n",
    "    [/usr/local/hive/lib/derbyclient.jar] 10.10.2.0 - (1582446)\n",
    "    [/usr/local/hive/lib/hive-jdbc-1.2.1-standalone.jar] 10.10.2.0 - (1582446)\n",
    "    [/usr/local/derby/lib/derby.jar] 10.10.2.0 - (1582446)\n",
    "    [/usr/local/derby/lib/derbytools.jar] 10.10.2.0 - (1582446)\n",
    "    ------------------------------------------------------\n",
    "    ----------------- Locale Information -----------------\n",
    "    Current Locale :  [English/United States [en_US]]\n",
    "    Found support for locale: [cs]\n",
    "         version: 10.10.2.0 - (1582446)\n",
    "    Found support for locale: [de_DE]\n",
    "         version: 10.10.2.0 - (1582446)\n",
    "    Found support for locale: [es]\n",
    "         version: 10.10.2.0 - (1582446)\n",
    "    Found support for locale: [fr]\n",
    "         version: 10.10.2.0 - (1582446)\n",
    "    Found support for locale: [hu]\n",
    "         version: 10.10.2.0 - (1582446)\n",
    "    Found support for locale: [it]\n",
    "         version: 10.10.2.0 - (1582446)\n",
    "    Found support for locale: [ja_JP]\n",
    "         version: 10.10.2.0 - (1582446)\n",
    "    Found support for locale: [ko_KR]\n",
    "         version: 10.10.2.0 - (1582446)\n",
    "    Found support for locale: [pl]\n",
    "         version: 10.10.2.0 - (1582446)\n",
    "    Found support for locale: [pt_BR]\n",
    "         version: 10.10.2.0 - (1582446)\n",
    "    Found support for locale: [ru]\n",
    "         version: 10.10.2.0 - (1582446)\n",
    "    Found support for locale: [zh_CN]\n",
    "         version: 10.10.2.0 - (1582446)\n",
    "    Found support for locale: [zh_TW]\n",
    "         version: 10.10.2.0 - (1582446)\n",
    "    ------------------------------------------------------\n",
    "    ------------------------------------------------------\n",
    "```"
   ]
  },
  {
   "cell_type": "markdown",
   "metadata": {},
   "source": [
    "## (b).启动YARN集群\n",
    "```shell\n",
    "    $ $HADOOP_HOME/sbin/start-dfs.sh\n",
    "    $ $HADOOP_HOME/sbin/start-yarn.sh\n",
    "    $ $HADOOP_HOME/sbin/start-all.sh\n",
    "```"
   ]
  },
  {
   "cell_type": "markdown",
   "metadata": {},
   "source": [
    "## (c).启动DERBY服务器\n",
    "```shell\n",
    "    $ startNetworkServer\n",
    "    Tue Jun 13 06:51:35 UTC 2017 : Security manager installed using the Basic server security policy.\n",
    "    Tue Jun 13 06:51:35 UTC 2017 : Apache Derby Network Server - 10.10.2.0 - (1582446) started and ready to accept connections on port 1527\n",
    "\n",
    "```"
   ]
  },
  {
   "cell_type": "markdown",
   "metadata": {},
   "source": [
    "## (b).启动HIVE\n",
    "```shell\n",
    "    $ hive\n",
    "    Logging initialized using configuration in jar:file:/usr/local/hive/lib/hive-common-1.2.1.jar!/hive-log4j.properties\n",
    "    hive>\n",
    "```"
   ]
  }
 ],
 "metadata": {
  "kernelspec": {
   "display_name": "Python 2",
   "language": "python",
   "name": "python2"
  },
  "language_info": {
   "codemirror_mode": {
    "name": "ipython",
    "version": 2
   },
   "file_extension": ".py",
   "mimetype": "text/x-python",
   "name": "python",
   "nbconvert_exporter": "python",
   "pygments_lexer": "ipython2",
   "version": "2.7.13"
  }
 },
 "nbformat": 4,
 "nbformat_minor": 2
}
