{
 "cells": [
  {
   "cell_type": "markdown",
   "metadata": {},
   "source": [
    "错误如下<br/>\n",
    "http://slave:8042/node/containerlogs/container_1495180985612_0001_01_000002/ubuntu/stderr?start=-4096\n",
    "\n",
    "nd = serializer.loads(command.value)<br/>\n",
    "  File \"/home/ubuntu/Download/spark-2.1.1/python/pyspark/serializers.py\", line 454, in loads\n",
    "    return pickle.loads(obj)<br/>\n",
    "  File \"/home/ubuntu/anaconda2/lib/python2.7/site-packages/distkeras/workers.py\", line 13, in <module>\n",
    "    from distkeras.utils import deserialize_keras_model<br/>\n",
    "  File \"/home/ubuntu/anaconda2/lib/python2.7/site-packages/distkeras/utils.py\", line 5, in <module>\n",
    "    from keras import backend as K<br/>\n",
    "  File \"/home/ubuntu/anaconda2/lib/python2.7/site-packages/keras/__init__.py\", line 3, in <module>\n",
    "    from . import activations<br/>\n",
    "  File \"/home/ubuntu/anaconda2/lib/python2.7/site-packages/keras/activations.py\", line 4, in <module>\n",
    "    from . import backend as K<br/>\n",
    "  File \"/home/ubuntu/anaconda2/lib/python2.7/site-packages/keras/backend/__init__.py\", line 73, in <module>\n",
    "    from .tensorflow_backend import *<br/>\n",
    "  File \"/home/ubuntu/anaconda2/lib/python2.7/site-packages/keras/backend/tensorflow_backend.py\", line 1, in <module>\n",
    "    import tensorflow as tf<br/>\n",
    "  File \"/home/ubuntu/anaconda2/lib/python2.7/site-packages/tensorflow/__init__.py\", line 24, in <module>\n",
    "    from tensorflow.python import *<br/>\n",
    "  File \"/home/ubuntu/anaconda2/lib/python2.7/site-packages/tensorflow/python/__init__.py\", line 54, in <module>\n",
    "    from tensorflow.core.framework.graph_pb2 import *<br/>\n",
    "  File \"/home/ubuntu/anaconda2/lib/python2.7/site-packages/tensorflow/core/framework/graph_pb2.py\", line 6, in <module><br/>\n",
    "    from google.protobuf import descriptor as _descriptor<br/>\n",
    "<span style=\"color:red\">ImportError</span>: No module named google.protobuf<br/>"
   ]
  },
  {
   "cell_type": "markdown",
   "metadata": {},
   "source": [
    "1.确定需要导入的库是否正确安装<br/>\n",
    "2.PYTHONPATH中是否指定路径<br/>\n",
    "```\n",
    "export PYTHONPATH=/home/ubuntu/Download/spark-2.1.1/python:/home/ubuntu/anaconda2/lib/python2.7/site-packages\n",
    "```"
   ]
  },
  {
   "cell_type": "markdown",
   "metadata": {},
   "source": [
    "There is another possibility, if you are running a python 2.7.11 or other similar versions, \n",
    "```\n",
    "    sudo pip install protobuf\n",
    "```\n",
    "is ok. But if you are in a anaconda environment, you should use \n",
    "```\n",
    "    sudo conda install protobuf\n",
    "```"
   ]
  }
 ],
 "metadata": {
  "kernelspec": {
   "display_name": "Python 2",
   "language": "python",
   "name": "python2"
  },
  "language_info": {
   "codemirror_mode": {
    "name": "ipython",
    "version": 2
   },
   "file_extension": ".py",
   "mimetype": "text/x-python",
   "name": "python",
   "nbconvert_exporter": "python",
   "pygments_lexer": "ipython2",
   "version": "2.7.13"
  }
 },
 "nbformat": 4,
 "nbformat_minor": 2
}
