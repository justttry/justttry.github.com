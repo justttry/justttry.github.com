{
 "cells": [
  {
   "cell_type": "markdown",
   "metadata": {},
   "source": [
    "Hadoop Datanode问题排除一<br/>\n",
    "查看datanode的logs--http://slave:50075/logs/yarn-ubuntu-nodemanager-ip-172-31-0-241.log\n",
    "\n",
    "查找Error关键词，可以看到下列错误信息\n",
    "\n",
    "2017-05-19 02:04:06,480 WARN org.apache.hadoop.yarn.server.nodemanager.DirectoryCollection: Directory /home/ubuntu/Download/hadoop-2.8.0/tmp/nm-local-dir <span style=\"color:red\">error</span>, used space above threshold of <span style=\"color:red\">90.0%</span>, removing from list of valid directories<br/>\n",
    "2017-05-19 02:04:06,480 WARN org.apache.hadoop.yarn.server.nodemanager.DirectoryCollection: Directory /home/ubuntu/Download/hadoop-2.8.0/logs/userlogs <span style=\"color:red\">error</span>, used space above threshold of <span style=\"color:red\">90.0%</span>, removing from list of valid directories<br/>\n",
    "2017-05-19 02:04:06,481 INFO org.apache.hadoop.yarn.server.nodemanager.LocalDirsHandlerService: Disk(s) failed: 1/1 local-dirs are bad: /home/ubuntu/Download/hadoop-2.8.0/tmp/nm-local-dir; 1/1 log-dirs are bad: /home/ubuntu/Download/hadoop-2.8.0/logs/userlogs<br/>\n",
    "2017-05-19 02:04:06,481 ERROR org.apache.hadoop.yarn.server.nodemanager.LocalDirsHandlerService: Most of the disks <span style=\"color:red\">failed</span>. 1/1 local-dirs are bad: /home/ubuntu/Download/hadoop-2.8.0/tmp/nm-local-dir; 1/1 log-dirs are bad: /home/ubuntu/Download/hadoop-2.8.0/logs/userlogs"
   ]
  },
  {
   "cell_type": "markdown",
   "metadata": {},
   "source": [
    "## 很明显，磁盘空间使用量超过了最大阈值"
   ]
  },
  {
   "cell_type": "markdown",
   "metadata": {},
   "source": [
    "解决方法：\n",
    "在yarn-site.xml中配置：\n",
    "```\n",
    "    <property>\n",
    "        <name>yarn.nodemanager.disk-health-checker.max-disk-utilization-per-disk-percentage</name>\n",
    "        <value>95.0</value>\n",
    "    </property>\n",
    "```\n",
    "然后重启yarn！ <br/>\n",
    "sbin/yarn-daemon.sh stop nodemanager <br/>\n",
    "sbin/yarn-daemon.sh start nodemanager <br/>"
   ]
  }
 ],
 "metadata": {
  "kernelspec": {
   "display_name": "Python 2",
   "language": "python",
   "name": "python2"
  },
  "language_info": {
   "codemirror_mode": {
    "name": "ipython",
    "version": 2
   },
   "file_extension": ".py",
   "mimetype": "text/x-python",
   "name": "python",
   "nbconvert_exporter": "python",
   "pygments_lexer": "ipython2",
   "version": "2.7.13"
  }
 },
 "nbformat": 4,
 "nbformat_minor": 2
}
