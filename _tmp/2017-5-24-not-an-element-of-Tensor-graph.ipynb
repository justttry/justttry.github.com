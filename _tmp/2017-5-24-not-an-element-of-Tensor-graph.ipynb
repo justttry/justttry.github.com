{
 "cells": [
  {
   "cell_type": "markdown",
   "metadata": {},
   "source": [
    "错误:<span style=\"color:red\">TypeError: Cannot interpret feed_dict key as Tensor: Tensor Tensor(\"Placeholder_2:0\", shape=(500, 500), dtype=float32) is not an element of this graph.</span>"
   ]
  },
  {
   "cell_type": "markdown",
   "metadata": {},
   "source": [
    "```\n",
    "Exception in thread Thread-2:                                                   \n",
    "Traceback (most recent call last):\n",
    "  File \"/home/ubuntu/anaconda2/lib/python2.7/threading.py\", line 801, in __bootstrap_inner\n",
    "    self.run()\n",
    "  File \"/home/ubuntu/anaconda2/lib/python2.7/threading.py\", line 754, in run\n",
    "    self.__target(*self.__args, **self.__kwargs)\n",
    "  File \"/home/ubuntu/anaconda2/lib/python2.7/site-packages/distkeras/job_deployment.py\", line 281, in run\n",
    "    self.read_trained_model()\n",
    "  File \"/home/ubuntu/anaconda2/lib/python2.7/site-packages/distkeras/job_deployment.py\", line 207, in read_trained_model\n",
    "    self.trained_model = deserialize_keras_model(unpickle_object(f.read()))\n",
    "  File \"/home/ubuntu/anaconda2/lib/python2.7/site-packages/distkeras/utils.py\", line 127, in deserialize_keras_model\n",
    "    model.set_weights(weights)\n",
    "  File \"/home/ubuntu/anaconda2/lib/python2.7/site-packages/keras/models.py\", line 700, in set_weights\n",
    "    self.model.set_weights(weights)\n",
    "  File \"/home/ubuntu/anaconda2/lib/python2.7/site-packages/keras/engine/topology.py\", line 1973, in set_weights\n",
    "    K.batch_set_value(tuples)\n",
    "  File \"/home/ubuntu/anaconda2/lib/python2.7/site-packages/keras/backend/tensorflow_backend.py\", line 2153, in batch_set_value\n",
    "    get_session().run(assign_ops, feed_dict=feed_dict)\n",
    "  File \"/home/ubuntu/anaconda2/lib/python2.7/site-packages/tensorflow/python/client/session.py\", line 778, in run\n",
    "    run_metadata_ptr)\n",
    "  File \"/home/ubuntu/anaconda2/lib/python2.7/site-packages/tensorflow/python/client/session.py\", line 933, in _run\n",
    "    + e.args[0])\n",
    "TypeError: Cannot interpret feed_dict key as Tensor: Tensor Tensor(\"Placeholder_2:0\", shape=(500, 500), dtype=float32) is not an element of this graph.\n",
    "\n",
    "```"
   ]
  },
  {
   "cell_type": "markdown",
   "metadata": {},
   "source": [
    "错误原因：多线程、分布式环境下，恢复Model时的Tensor Graph和生成Model时不同。\n",
    "\n",
    "解决方法：将生成Model的Tesor Graph复制到恢复线程(或者DataNode)中。"
   ]
  },
  {
   "cell_type": "markdown",
   "metadata": {},
   "source": [
    "```\n",
    "Env:Ubuntu 16.4\n",
    "    spark\n",
    "    keras\n",
    "```"
   ]
  },
  {
   "cell_type": "markdown",
   "metadata": {},
   "source": [
    "Solution:\n",
    "\n",
    "    1.Right after loading or constructing your model, save the TensorFlow graph:\n",
    "\n",
    "```python\n",
    "        graph = tf.get_default_graph()\n",
    "```\n",
    "    2.In the other thread (or perhaps in an asynchronous event handler), do:\n",
    "```python\n",
    "        global graph\n",
    "        with graph.as_default():\n",
    "            (... do inference here ...)\n",
    "```\n",
    "\n",
    "I learned about this from https://github.com/fchollet/keras/issues/2397"
   ]
  },
  {
   "cell_type": "markdown",
   "metadata": {},
   "source": [
    "## 具体操作如下:"
   ]
  },
  {
   "cell_type": "markdown",
   "metadata": {},
   "source": [
    "```python\n",
    "## main.py\n",
    "...\n",
    "from keras.models import Sequential\n",
    "...\n",
    "model = Sequential()\n",
    "model.add(Dense(500, input_shape=(nb_features,)))\n",
    "model.add(Activation('relu'))\n",
    "model.add(Dropout(0.4))\n",
    "model.add(Dense(500))\n",
    "model.add(Activation('relu'))\n",
    "model.add(Dense(nb_classes))\n",
    "model.add(Activation('softmax'))\n",
    "\n",
    "model.summary()\n",
    "\n",
    "from deployment import graph\n",
    "graph.append(tf.get_default_graph())\n",
    "```"
   ]
  },
  {
   "cell_type": "markdown",
   "metadata": {},
   "source": [
    "\n",
    "```python\n",
    "## deployment.py\n",
    "\n",
    "graph = []\n",
    "\n",
    "class Job(object):\n",
    "\t...\n",
    "    def run(self):\n",
    "    time.sleep(1)\n",
    "    while not self.is_finished():\n",
    "        time.sleep(10)\n",
    "    global graph\n",
    "    with graph[0].as_default():        \n",
    "        (... do inference here ...)\n",
    " ```"
   ]
  }
 ],
 "metadata": {
  "kernelspec": {
   "display_name": "Python 2",
   "language": "python",
   "name": "python2"
  },
  "language_info": {
   "codemirror_mode": {
    "name": "ipython",
    "version": 2
   },
   "file_extension": ".py",
   "mimetype": "text/x-python",
   "name": "python",
   "nbconvert_exporter": "python",
   "pygments_lexer": "ipython2",
   "version": "2.7.13"
  }
 },
 "nbformat": 4,
 "nbformat_minor": 2
}
